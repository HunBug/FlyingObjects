{
 "cells": [
  {
   "cell_type": "code",
   "execution_count": 6,
   "metadata": {},
   "outputs": [],
   "source": [
    "import sys\n",
    "sys.path.insert(0, '../')\n",
    "\n",
    "from simulator.bezier_path import BezierPath\n",
    "from simulator.point_2d import Point2D\n",
    "from datetime import datetime, timedelta\n",
    "\n",
    "start = Point2D(0.0, 0.0)\n",
    "end = Point2D(1.0, 1.0)\n",
    "control_point = Point2D(0.9, 0.1)\n",
    "path = BezierPath(start, end, control_point)"
   ]
  },
  {
   "cell_type": "code",
   "execution_count": 11,
   "metadata": {},
   "outputs": [
    {
     "name": "stdout",
     "output_type": "stream",
     "text": [
      "2023-11-13 18:35:33.706370 Point: Point2D(x=0.0, y=0.0), Angle: 0.11065722117389565\n",
      "2023-11-13 18:35:34.306370 Point: Point2D(x=0.3178387202382592, y=0.06848040611177386), Angle: 0.3290210020551299\n",
      "2023-11-13 18:35:34.906370 Point: Point2D(x=0.5759804535229773, y=0.19665779917708884), Angle: 0.6054757273600585\n",
      "2023-11-13 18:35:35.506370 Point: Point2D(x=0.7744251998541541, y=0.3845321791959449), Angle: 0.9118851680290875\n",
      "2023-11-13 18:35:36.106370 Point: Point2D(x=0.91317295923179, y=0.6321035461683421), Angle: 1.196734751319318\n",
      "2023-11-13 18:35:36.706370 Point: Point2D(x=0.9922237316558847, y=0.9393719000942805), Angle: 1.4258693752807798\n",
      "2023-11-13 18:35:37.306370 Point: Point2D(x=1.0, y=1.0), Angle: 1.460139105621001\n",
      "2023-11-13 18:35:37.906370 Point: Point2D(x=1.0, y=1.0), Angle: 1.460139105621001\n",
      "2023-11-13 18:35:38.506370 Point: Point2D(x=1.0, y=1.0), Angle: 1.460139105621001\n",
      "2023-11-13 18:35:39.106370 Point: Point2D(x=1.0, y=1.0), Angle: 1.460139105621001\n"
     ]
    }
   ],
   "source": [
    "steps = 10\n",
    "durration = timedelta(seconds=6)\n",
    "speed = 0.5\n",
    "start_time = datetime.now()\n",
    "\n",
    "points = []\n",
    "angles = []\n",
    "for i in range(steps):\n",
    "    current_time = start_time + i * durration / steps\n",
    "    point, angle = path.calculate_position_and_angle(start_time=start_time, current_time=current_time, speed=speed)\n",
    "    points.append(point)\n",
    "    angles.append(angle)\n",
    "    print(f'{current_time} Point: {point}, Angle: {angle}')\n"
   ]
  },
  {
   "cell_type": "code",
   "execution_count": 12,
   "metadata": {},
   "outputs": [
    {
     "data": {
      "image/png": "[encoded data removed]",
      "text/plain": [
       "<Figure size 640x480 with 1 Axes>"
      ]
     },
     "metadata": {},
     "output_type": "display_data"
    }
   ],
   "source": [
    "# draw path\n",
    "import matplotlib.pyplot as plt\n",
    "import numpy as np\n",
    "from matplotlib.patches import Circle\n",
    "from matplotlib.collections import PatchCollection\n",
    "\n",
    "fig, ax = plt.subplots()\n",
    "ax.set_aspect('equal')\n",
    "ax.set_xlim(-0.1, 1.1)\n",
    "ax.set_ylim(-0.1, 1.1)\n",
    "\n",
    "# draw path\n",
    "# x = [point.x for point in points]\n",
    "# y = [point.y for point in points]\n",
    "# ax.plot(x, y, 'k--')\n",
    "\n",
    "# draw control points\n",
    "patches = []\n",
    "patches.append(Circle((start.x, start.y), 0.01, color='r'))\n",
    "patches.append(Circle((end.x, end.y), 0.01, color='r'))\n",
    "patches.append(Circle((control_point.x, control_point.y), 0.01, color='r'))\n",
    "\n",
    "# draw path points\n",
    "for point in points:\n",
    "    patches.append(Circle((point.x, point.y), 0.01, color='b'))\n",
    "\n",
    "# draw path angles\n",
    "for point, angle in zip(points, angles):\n",
    "    dx = np.cos(angle)*0.03\n",
    "    dy = np.sin(angle)*0.03\n",
    "    ax.arrow(point.x, point.y, dx, dy, head_width=0.01, head_length=0.01, fc='k', ec='k')\n",
    "\n",
    "collection = PatchCollection(patches, match_original=True)\n",
    "ax.add_collection(collection)\n",
    "\n",
    "plt.show()"
   ]
  }
 ],
 "metadata": {
  "kernelspec": {
   "display_name": "Python 3",
   "language": "python",
   "name": "python3"
  },
  "language_info": {
   "codemirror_mode": {
    "name": "ipython",
    "version": 3
   },
   "file_extension": ".py",
   "mimetype": "text/x-python",
   "name": "python",
   "nbconvert_exporter": "python",
   "pygments_lexer": "ipython3",
   "version": "3.10.13"
  }
 },
 "nbformat": 4,
 "nbformat_minor": 2
}
